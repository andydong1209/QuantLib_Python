{
 "cells": [
  {
   "cell_type": "code",
   "execution_count": 1,
   "metadata": {},
   "outputs": [],
   "source": [
    "import QuantLib as ql"
   ]
  },
  {
   "cell_type": "code",
   "execution_count": 2,
   "metadata": {},
   "outputs": [],
   "source": [
    "# 1.Enviroment\n",
    "settings = ql.Settings.instance()\n",
    "evDate = ql.Date(8, 6, 2021)\n",
    "settings.setEvaluationDate(evDate)"
   ]
  },
  {
   "cell_type": "code",
   "execution_count": 3,
   "metadata": {},
   "outputs": [],
   "source": [
    "Cal = ql.NullCalendar()\n",
    "DC365 = ql.Actual365Fixed()\n",
    "settlementDays = 2\n",
    "refDate = Cal.advance(evDate, 2, ql.Days, ql.Following, False)\n",
    "maturity = Cal.advance(refDate, 1, ql.Years, ql.Following, False)"
   ]
  },
  {
   "cell_type": "code",
   "execution_count": 4,
   "metadata": {},
   "outputs": [],
   "source": [
    "# 2.Market Data\n",
    "S0 = 100\n",
    "QS = ql.SimpleQuote(S0)\n",
    "h_QS = ql.QuoteHandle(QS)"
   ]
  },
  {
   "cell_type": "code",
   "execution_count": 5,
   "metadata": {},
   "outputs": [],
   "source": [
    "r = 0.06\n",
    "rTS = ql.FlatForward(settlementDays, Cal, r, DC365, ql.Compounded, ql.Annual)\n",
    "h_rTS = ql.YieldTermStructureHandle(rTS)"
   ]
  },
  {
   "cell_type": "code",
   "execution_count": 6,
   "metadata": {},
   "outputs": [],
   "source": [
    "q = 0.03\n",
    "qTS = ql.FlatForward(settlementDays, Cal, q, DC365, ql.Compounded, ql.Annual)\n",
    "h_qTS = ql.YieldTermStructureHandle(qTS)"
   ]
  },
  {
   "cell_type": "code",
   "execution_count": 7,
   "metadata": {},
   "outputs": [],
   "source": [
    "vol = 0.3\n",
    "volTS = ql.BlackConstantVol(evDate, Cal, vol, DC365)\n",
    "h_volTS = ql.BlackVolTermStructureHandle(volTS)"
   ]
  },
  {
   "cell_type": "code",
   "execution_count": 8,
   "metadata": {},
   "outputs": [],
   "source": [
    "GBSProcess = ql.GeneralizedBlackScholesProcess(h_QS, h_qTS, h_rTS, h_volTS)"
   ]
  },
  {
   "cell_type": "code",
   "execution_count": 9,
   "metadata": {},
   "outputs": [],
   "source": [
    "# 3.Instrument\n",
    "europeanExer = ql.EuropeanExercise(maturity)"
   ]
  },
  {
   "cell_type": "code",
   "execution_count": 10,
   "metadata": {},
   "outputs": [],
   "source": [
    "strike = 100.0\n",
    "optType = ql.Option.Call\n",
    "vanillaPayoff = ql.PlainVanillaPayoff(optType, strike)"
   ]
  },
  {
   "cell_type": "code",
   "execution_count": 11,
   "metadata": {},
   "outputs": [],
   "source": [
    "anEuroOption = ql.EuropeanOption(vanillaPayoff, europeanExer)"
   ]
  },
  {
   "cell_type": "code",
   "execution_count": 12,
   "metadata": {},
   "outputs": [],
   "source": [
    "# 4.Engine\n",
    "AEE = ql.AnalyticEuropeanEngine(GBSProcess)"
   ]
  },
  {
   "cell_type": "code",
   "execution_count": 13,
   "metadata": {},
   "outputs": [],
   "source": [
    "anEuroOption.setPricingEngine(AEE)"
   ]
  },
  {
   "cell_type": "code",
   "execution_count": 14,
   "metadata": {},
   "outputs": [
    {
     "name": "stdout",
     "output_type": "stream",
     "text": [
      "MTM:  12.868985437567458\n"
     ]
    }
   ],
   "source": [
    "# 5.MTM\n",
    "Value = anEuroOption.NPV()\n",
    "print(\"MTM: \", Value)"
   ]
  },
  {
   "cell_type": "code",
   "execution_count": 15,
   "metadata": {},
   "outputs": [
    {
     "name": "stdout",
     "output_type": "stream",
     "text": [
      "Delta:  0.5797093997979231\n",
      "Gamma:  0.012492235537146556\n",
      "Vega:  37.682058428488645\n"
     ]
    }
   ],
   "source": [
    "# 6.Greeks\n",
    "Delta = anEuroOption.delta()\n",
    "print(\"Delta: \", Delta)\n",
    "Gamma = anEuroOption.gamma()\n",
    "print(\"Gamma: \", Gamma)\n",
    "Vega = anEuroOption.vega() \n",
    "print(\"Vega: \", Vega)"
   ]
  },
  {
   "cell_type": "code",
   "execution_count": 16,
   "metadata": {},
   "outputs": [
    {
     "name": "stdout",
     "output_type": "stream",
     "text": [
      "Theta:  -6.5310124892825305\n",
      "Rho:  45.10195454222487\n",
      "Dividend Rho:  -57.97093997979233\n"
     ]
    }
   ],
   "source": [
    "Theta = anEuroOption.theta()\n",
    "print(\"Theta: \", Theta)\n",
    "Rho = anEuroOption.rho()\n",
    "print(\"Rho: \", Rho)\n",
    "DividendRho = anEuroOption.dividendRho()\n",
    "print(\"Dividend Rho: \", DividendRho)"
   ]
  },
  {
   "cell_type": "code",
   "execution_count": 17,
   "metadata": {},
   "outputs": [
    {
     "name": "stdout",
     "output_type": "stream",
     "text": [
      "Implied Vol at Price  15.0 :  0.35664211630684395\n",
      "Implied Vol at Price  10.0 :  0.2239454365725501\n"
     ]
    }
   ],
   "source": [
    "# 7.Implied Volatility\n",
    "Price1 = 15.0\n",
    "vol1 = anEuroOption.impliedVolatility(Price1, GBSProcess)\n",
    "print(\"Implied Vol at Price \", Price1,\": \", vol1)\n",
    "Price2 = 10.0\n",
    "vol2 = anEuroOption.impliedVolatility(Price2, GBSProcess)\n",
    "print(\"Implied Vol at Price \", Price2, \": \", vol2)"
   ]
  },
  {
   "cell_type": "code",
   "execution_count": null,
   "metadata": {},
   "outputs": [],
   "source": []
  }
 ],
 "metadata": {
  "kernelspec": {
   "display_name": "Python 3",
   "language": "python",
   "name": "python3"
  },
  "language_info": {
   "codemirror_mode": {
    "name": "ipython",
    "version": 3
   },
   "file_extension": ".py",
   "mimetype": "text/x-python",
   "name": "python",
   "nbconvert_exporter": "python",
   "pygments_lexer": "ipython3",
   "version": "3.8.3"
  }
 },
 "nbformat": 4,
 "nbformat_minor": 4
}
